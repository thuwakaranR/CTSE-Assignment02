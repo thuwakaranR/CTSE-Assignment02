{
 "cells": [
  {
   "cell_type": "markdown",
   "id": "2af02ba1",
   "metadata": {},
   "source": [
    "# CTSE Lecture Notes Chatbot using LangChain + HuggingFace\n",
    "This notebook demonstrates a simple chatbot that answers questions based on CTSE lecture notes using a Retrieval-Augmented Generation (RAG) approach."
   ]
  },
  {
   "cell_type": "code",
   "execution_count": 1,
   "id": "9d77a65f",
   "metadata": {},
   "outputs": [
    {
     "name": "stdout",
     "output_type": "stream",
     "text": [
      "Requirement already satisfied: langchain in c:\\users\\iamthuwakaranr\\desktop\\ctse_assignment02\\ctse-assignment02\\venv\\lib\\site-packages (0.3.25)\n",
      "Requirement already satisfied: langchain-community in c:\\users\\iamthuwakaranr\\desktop\\ctse_assignment02\\ctse-assignment02\\venv\\lib\\site-packages (0.3.23)\n",
      "Requirement already satisfied: langchain-huggingface in c:\\users\\iamthuwakaranr\\desktop\\ctse_assignment02\\ctse-assignment02\\venv\\lib\\site-packages (0.2.0)\n",
      "Requirement already satisfied: chromadb in c:\\users\\iamthuwakaranr\\desktop\\ctse_assignment02\\ctse-assignment02\\venv\\lib\\site-packages (1.0.8)\n",
      "Requirement already satisfied: transformers in c:\\users\\iamthuwakaranr\\desktop\\ctse_assignment02\\ctse-assignment02\\venv\\lib\\site-packages (4.51.3)\n",
      "Requirement already satisfied: unstructured in c:\\users\\iamthuwakaranr\\desktop\\ctse_assignment02\\ctse-assignment02\\venv\\lib\\site-packages (0.17.2)\n",
      "Requirement already satisfied: sentence-transformers in c:\\users\\iamthuwakaranr\\desktop\\ctse_assignment02\\ctse-assignment02\\venv\\lib\\site-packages (4.1.0)\n",
      "Requirement already satisfied: langchain-core<1.0.0,>=0.3.58 in c:\\users\\iamthuwakaranr\\desktop\\ctse_assignment02\\ctse-assignment02\\venv\\lib\\site-packages (from langchain) (0.3.59)\n",
      "Requirement already satisfied: langchain-text-splitters<1.0.0,>=0.3.8 in c:\\users\\iamthuwakaranr\\desktop\\ctse_assignment02\\ctse-assignment02\\venv\\lib\\site-packages (from langchain) (0.3.8)\n",
      "Requirement already satisfied: langsmith<0.4,>=0.1.17 in c:\\users\\iamthuwakaranr\\desktop\\ctse_assignment02\\ctse-assignment02\\venv\\lib\\site-packages (from langchain) (0.3.42)\n",
      "Requirement already satisfied: pydantic<3.0.0,>=2.7.4 in c:\\users\\iamthuwakaranr\\desktop\\ctse_assignment02\\ctse-assignment02\\venv\\lib\\site-packages (from langchain) (2.11.4)\n",
      "Requirement already satisfied: SQLAlchemy<3,>=1.4 in c:\\users\\iamthuwakaranr\\desktop\\ctse_assignment02\\ctse-assignment02\\venv\\lib\\site-packages (from langchain) (2.0.40)\n",
      "Requirement already satisfied: requests<3,>=2 in c:\\users\\iamthuwakaranr\\desktop\\ctse_assignment02\\ctse-assignment02\\venv\\lib\\site-packages (from langchain) (2.32.3)\n",
      "Requirement already satisfied: PyYAML>=5.3 in c:\\users\\iamthuwakaranr\\desktop\\ctse_assignment02\\ctse-assignment02\\venv\\lib\\site-packages (from langchain) (6.0.2)\n",
      "Requirement already satisfied: aiohttp<4.0.0,>=3.8.3 in c:\\users\\iamthuwakaranr\\desktop\\ctse_assignment02\\ctse-assignment02\\venv\\lib\\site-packages (from langchain-community) (3.11.18)\n",
      "Requirement already satisfied: tenacity!=8.4.0,<10,>=8.1.0 in c:\\users\\iamthuwakaranr\\desktop\\ctse_assignment02\\ctse-assignment02\\venv\\lib\\site-packages (from langchain-community) (9.1.2)\n",
      "Requirement already satisfied: dataclasses-json<0.7,>=0.5.7 in c:\\users\\iamthuwakaranr\\desktop\\ctse_assignment02\\ctse-assignment02\\venv\\lib\\site-packages (from langchain-community) (0.6.7)\n",
      "Requirement already satisfied: pydantic-settings<3.0.0,>=2.4.0 in c:\\users\\iamthuwakaranr\\desktop\\ctse_assignment02\\ctse-assignment02\\venv\\lib\\site-packages (from langchain-community) (2.9.1)\n",
      "Requirement already satisfied: httpx-sse<1.0.0,>=0.4.0 in c:\\users\\iamthuwakaranr\\desktop\\ctse_assignment02\\ctse-assignment02\\venv\\lib\\site-packages (from langchain-community) (0.4.0)\n",
      "Requirement already satisfied: numpy>=1.26.2 in c:\\users\\iamthuwakaranr\\desktop\\ctse_assignment02\\ctse-assignment02\\venv\\lib\\site-packages (from langchain-community) (2.2.5)\n",
      "Requirement already satisfied: tokenizers>=0.19.1 in c:\\users\\iamthuwakaranr\\desktop\\ctse_assignment02\\ctse-assignment02\\venv\\lib\\site-packages (from langchain-huggingface) (0.21.1)\n",
      "Requirement already satisfied: huggingface-hub>=0.30.2 in c:\\users\\iamthuwakaranr\\desktop\\ctse_assignment02\\ctse-assignment02\\venv\\lib\\site-packages (from langchain-huggingface) (0.31.1)\n",
      "Requirement already satisfied: build>=1.0.3 in c:\\users\\iamthuwakaranr\\desktop\\ctse_assignment02\\ctse-assignment02\\venv\\lib\\site-packages (from chromadb) (1.2.2.post1)\n",
      "Requirement already satisfied: fastapi==0.115.9 in c:\\users\\iamthuwakaranr\\desktop\\ctse_assignment02\\ctse-assignment02\\venv\\lib\\site-packages (from chromadb) (0.115.9)\n",
      "Requirement already satisfied: uvicorn>=0.18.3 in c:\\users\\iamthuwakaranr\\desktop\\ctse_assignment02\\ctse-assignment02\\venv\\lib\\site-packages (from uvicorn[standard]>=0.18.3->chromadb) (0.34.2)\n",
      "Requirement already satisfied: posthog>=2.4.0 in c:\\users\\iamthuwakaranr\\desktop\\ctse_assignment02\\ctse-assignment02\\venv\\lib\\site-packages (from chromadb) (4.0.1)\n",
      "Requirement already satisfied: typing-extensions>=4.5.0 in c:\\users\\iamthuwakaranr\\desktop\\ctse_assignment02\\ctse-assignment02\\venv\\lib\\site-packages (from chromadb) (4.13.2)\n",
      "Requirement already satisfied: onnxruntime>=1.14.1 in c:\\users\\iamthuwakaranr\\desktop\\ctse_assignment02\\ctse-assignment02\\venv\\lib\\site-packages (from chromadb) (1.21.1)\n",
      "Requirement already satisfied: opentelemetry-api>=1.2.0 in c:\\users\\iamthuwakaranr\\desktop\\ctse_assignment02\\ctse-assignment02\\venv\\lib\\site-packages (from chromadb) (1.32.1)\n",
      "Requirement already satisfied: opentelemetry-exporter-otlp-proto-grpc>=1.2.0 in c:\\users\\iamthuwakaranr\\desktop\\ctse_assignment02\\ctse-assignment02\\venv\\lib\\site-packages (from chromadb) (1.32.1)\n",
      "Requirement already satisfied: opentelemetry-instrumentation-fastapi>=0.41b0 in c:\\users\\iamthuwakaranr\\desktop\\ctse_assignment02\\ctse-assignment02\\venv\\lib\\site-packages (from chromadb) (0.53b1)\n",
      "Requirement already satisfied: opentelemetry-sdk>=1.2.0 in c:\\users\\iamthuwakaranr\\desktop\\ctse_assignment02\\ctse-assignment02\\venv\\lib\\site-packages (from chromadb) (1.32.1)\n",
      "Requirement already satisfied: pypika>=0.48.9 in c:\\users\\iamthuwakaranr\\desktop\\ctse_assignment02\\ctse-assignment02\\venv\\lib\\site-packages (from chromadb) (0.48.9)\n",
      "Requirement already satisfied: tqdm>=4.65.0 in c:\\users\\iamthuwakaranr\\desktop\\ctse_assignment02\\ctse-assignment02\\venv\\lib\\site-packages (from chromadb) (4.67.1)\n",
      "Requirement already satisfied: overrides>=7.3.1 in c:\\users\\iamthuwakaranr\\desktop\\ctse_assignment02\\ctse-assignment02\\venv\\lib\\site-packages (from chromadb) (7.7.0)\n",
      "Requirement already satisfied: importlib-resources in c:\\users\\iamthuwakaranr\\desktop\\ctse_assignment02\\ctse-assignment02\\venv\\lib\\site-packages (from chromadb) (6.5.2)\n",
      "Requirement already satisfied: grpcio>=1.58.0 in c:\\users\\iamthuwakaranr\\desktop\\ctse_assignment02\\ctse-assignment02\\venv\\lib\\site-packages (from chromadb) (1.71.0)\n",
      "Requirement already satisfied: bcrypt>=4.0.1 in c:\\users\\iamthuwakaranr\\desktop\\ctse_assignment02\\ctse-assignment02\\venv\\lib\\site-packages (from chromadb) (4.3.0)\n",
      "Requirement already satisfied: typer>=0.9.0 in c:\\users\\iamthuwakaranr\\desktop\\ctse_assignment02\\ctse-assignment02\\venv\\lib\\site-packages (from chromadb) (0.15.3)\n",
      "Requirement already satisfied: kubernetes>=28.1.0 in c:\\users\\iamthuwakaranr\\desktop\\ctse_assignment02\\ctse-assignment02\\venv\\lib\\site-packages (from chromadb) (32.0.1)\n",
      "Requirement already satisfied: mmh3>=4.0.1 in c:\\users\\iamthuwakaranr\\desktop\\ctse_assignment02\\ctse-assignment02\\venv\\lib\\site-packages (from chromadb) (5.1.0)\n",
      "Requirement already satisfied: orjson>=3.9.12 in c:\\users\\iamthuwakaranr\\desktop\\ctse_assignment02\\ctse-assignment02\\venv\\lib\\site-packages (from chromadb) (3.10.18)\n",
      "Requirement already satisfied: httpx>=0.27.0 in c:\\users\\iamthuwakaranr\\desktop\\ctse_assignment02\\ctse-assignment02\\venv\\lib\\site-packages (from chromadb) (0.28.1)\n",
      "Requirement already satisfied: rich>=10.11.0 in c:\\users\\iamthuwakaranr\\desktop\\ctse_assignment02\\ctse-assignment02\\venv\\lib\\site-packages (from chromadb) (14.0.0)\n",
      "Requirement already satisfied: jsonschema>=4.19.0 in c:\\users\\iamthuwakaranr\\desktop\\ctse_assignment02\\ctse-assignment02\\venv\\lib\\site-packages (from chromadb) (4.23.0)\n",
      "Requirement already satisfied: starlette<0.46.0,>=0.40.0 in c:\\users\\iamthuwakaranr\\desktop\\ctse_assignment02\\ctse-assignment02\\venv\\lib\\site-packages (from fastapi==0.115.9->chromadb) (0.45.3)\n",
      "Requirement already satisfied: filelock in c:\\users\\iamthuwakaranr\\desktop\\ctse_assignment02\\ctse-assignment02\\venv\\lib\\site-packages (from transformers) (3.18.0)\n",
      "Requirement already satisfied: packaging>=20.0 in c:\\users\\iamthuwakaranr\\desktop\\ctse_assignment02\\ctse-assignment02\\venv\\lib\\site-packages (from transformers) (24.2)\n",
      "Requirement already satisfied: regex!=2019.12.17 in c:\\users\\iamthuwakaranr\\desktop\\ctse_assignment02\\ctse-assignment02\\venv\\lib\\site-packages (from transformers) (2024.11.6)\n",
      "Requirement already satisfied: safetensors>=0.4.3 in c:\\users\\iamthuwakaranr\\desktop\\ctse_assignment02\\ctse-assignment02\\venv\\lib\\site-packages (from transformers) (0.5.3)\n",
      "Requirement already satisfied: chardet in c:\\users\\iamthuwakaranr\\desktop\\ctse_assignment02\\ctse-assignment02\\venv\\lib\\site-packages (from unstructured) (5.2.0)\n",
      "Requirement already satisfied: filetype in c:\\users\\iamthuwakaranr\\desktop\\ctse_assignment02\\ctse-assignment02\\venv\\lib\\site-packages (from unstructured) (1.2.0)\n",
      "Requirement already satisfied: python-magic in c:\\users\\iamthuwakaranr\\desktop\\ctse_assignment02\\ctse-assignment02\\venv\\lib\\site-packages (from unstructured) (0.4.27)\n",
      "Requirement already satisfied: lxml in c:\\users\\iamthuwakaranr\\desktop\\ctse_assignment02\\ctse-assignment02\\venv\\lib\\site-packages (from unstructured) (5.4.0)\n",
      "Requirement already satisfied: nltk in c:\\users\\iamthuwakaranr\\desktop\\ctse_assignment02\\ctse-assignment02\\venv\\lib\\site-packages (from unstructured) (3.9.1)\n",
      "Requirement already satisfied: beautifulsoup4 in c:\\users\\iamthuwakaranr\\desktop\\ctse_assignment02\\ctse-assignment02\\venv\\lib\\site-packages (from unstructured) (4.13.4)\n",
      "Requirement already satisfied: emoji in c:\\users\\iamthuwakaranr\\desktop\\ctse_assignment02\\ctse-assignment02\\venv\\lib\\site-packages (from unstructured) (2.14.1)\n",
      "Requirement already satisfied: python-iso639 in c:\\users\\iamthuwakaranr\\desktop\\ctse_assignment02\\ctse-assignment02\\venv\\lib\\site-packages (from unstructured) (2025.2.18)\n",
      "Requirement already satisfied: langdetect in c:\\users\\iamthuwakaranr\\desktop\\ctse_assignment02\\ctse-assignment02\\venv\\lib\\site-packages (from unstructured) (1.0.9)\n",
      "Requirement already satisfied: rapidfuzz in c:\\users\\iamthuwakaranr\\desktop\\ctse_assignment02\\ctse-assignment02\\venv\\lib\\site-packages (from unstructured) (3.13.0)\n",
      "Requirement already satisfied: backoff in c:\\users\\iamthuwakaranr\\desktop\\ctse_assignment02\\ctse-assignment02\\venv\\lib\\site-packages (from unstructured) (2.2.1)\n",
      "Requirement already satisfied: unstructured-client in c:\\users\\iamthuwakaranr\\desktop\\ctse_assignment02\\ctse-assignment02\\venv\\lib\\site-packages (from unstructured) (0.34.0)\n",
      "Requirement already satisfied: wrapt in c:\\users\\iamthuwakaranr\\desktop\\ctse_assignment02\\ctse-assignment02\\venv\\lib\\site-packages (from unstructured) (1.17.2)\n",
      "Requirement already satisfied: psutil in c:\\users\\iamthuwakaranr\\desktop\\ctse_assignment02\\ctse-assignment02\\venv\\lib\\site-packages (from unstructured) (7.0.0)\n",
      "Requirement already satisfied: python-oxmsg in c:\\users\\iamthuwakaranr\\desktop\\ctse_assignment02\\ctse-assignment02\\venv\\lib\\site-packages (from unstructured) (0.0.2)\n",
      "Requirement already satisfied: html5lib in c:\\users\\iamthuwakaranr\\desktop\\ctse_assignment02\\ctse-assignment02\\venv\\lib\\site-packages (from unstructured) (1.1)\n",
      "Requirement already satisfied: torch>=1.11.0 in c:\\users\\iamthuwakaranr\\desktop\\ctse_assignment02\\ctse-assignment02\\venv\\lib\\site-packages (from sentence-transformers) (2.7.0)\n",
      "Requirement already satisfied: scikit-learn in c:\\users\\iamthuwakaranr\\desktop\\ctse_assignment02\\ctse-assignment02\\venv\\lib\\site-packages (from sentence-transformers) (1.6.1)\n",
      "Requirement already satisfied: scipy in c:\\users\\iamthuwakaranr\\desktop\\ctse_assignment02\\ctse-assignment02\\venv\\lib\\site-packages (from sentence-transformers) (1.15.2)\n",
      "Requirement already satisfied: Pillow in c:\\users\\iamthuwakaranr\\desktop\\ctse_assignment02\\ctse-assignment02\\venv\\lib\\site-packages (from sentence-transformers) (11.2.1)\n",
      "Requirement already satisfied: aiohappyeyeballs>=2.3.0 in c:\\users\\iamthuwakaranr\\desktop\\ctse_assignment02\\ctse-assignment02\\venv\\lib\\site-packages (from aiohttp<4.0.0,>=3.8.3->langchain-community) (2.6.1)\n",
      "Requirement already satisfied: aiosignal>=1.1.2 in c:\\users\\iamthuwakaranr\\desktop\\ctse_assignment02\\ctse-assignment02\\venv\\lib\\site-packages (from aiohttp<4.0.0,>=3.8.3->langchain-community) (1.3.2)\n",
      "Requirement already satisfied: attrs>=17.3.0 in c:\\users\\iamthuwakaranr\\desktop\\ctse_assignment02\\ctse-assignment02\\venv\\lib\\site-packages (from aiohttp<4.0.0,>=3.8.3->langchain-community) (25.3.0)\n",
      "Requirement already satisfied: frozenlist>=1.1.1 in c:\\users\\iamthuwakaranr\\desktop\\ctse_assignment02\\ctse-assignment02\\venv\\lib\\site-packages (from aiohttp<4.0.0,>=3.8.3->langchain-community) (1.6.0)\n",
      "Requirement already satisfied: multidict<7.0,>=4.5 in c:\\users\\iamthuwakaranr\\desktop\\ctse_assignment02\\ctse-assignment02\\venv\\lib\\site-packages (from aiohttp<4.0.0,>=3.8.3->langchain-community) (6.4.3)\n",
      "Requirement already satisfied: propcache>=0.2.0 in c:\\users\\iamthuwakaranr\\desktop\\ctse_assignment02\\ctse-assignment02\\venv\\lib\\site-packages (from aiohttp<4.0.0,>=3.8.3->langchain-community) (0.3.1)\n",
      "Requirement already satisfied: yarl<2.0,>=1.17.0 in c:\\users\\iamthuwakaranr\\desktop\\ctse_assignment02\\ctse-assignment02\\venv\\lib\\site-packages (from aiohttp<4.0.0,>=3.8.3->langchain-community) (1.20.0)\n",
      "Requirement already satisfied: pyproject_hooks in c:\\users\\iamthuwakaranr\\desktop\\ctse_assignment02\\ctse-assignment02\\venv\\lib\\site-packages (from build>=1.0.3->chromadb) (1.2.0)\n",
      "Requirement already satisfied: colorama in c:\\users\\iamthuwakaranr\\desktop\\ctse_assignment02\\ctse-assignment02\\venv\\lib\\site-packages (from build>=1.0.3->chromadb) (0.4.6)\n",
      "Requirement already satisfied: marshmallow<4.0.0,>=3.18.0 in c:\\users\\iamthuwakaranr\\desktop\\ctse_assignment02\\ctse-assignment02\\venv\\lib\\site-packages (from dataclasses-json<0.7,>=0.5.7->langchain-community) (3.26.1)\n",
      "Requirement already satisfied: typing-inspect<1,>=0.4.0 in c:\\users\\iamthuwakaranr\\desktop\\ctse_assignment02\\ctse-assignment02\\venv\\lib\\site-packages (from dataclasses-json<0.7,>=0.5.7->langchain-community) (0.9.0)\n",
      "Requirement already satisfied: anyio in c:\\users\\iamthuwakaranr\\desktop\\ctse_assignment02\\ctse-assignment02\\venv\\lib\\site-packages (from httpx>=0.27.0->chromadb) (4.9.0)\n",
      "Requirement already satisfied: certifi in c:\\users\\iamthuwakaranr\\desktop\\ctse_assignment02\\ctse-assignment02\\venv\\lib\\site-packages (from httpx>=0.27.0->chromadb) (2025.4.26)\n",
      "Requirement already satisfied: httpcore==1.* in c:\\users\\iamthuwakaranr\\desktop\\ctse_assignment02\\ctse-assignment02\\venv\\lib\\site-packages (from httpx>=0.27.0->chromadb) (1.0.9)\n",
      "Requirement already satisfied: idna in c:\\users\\iamthuwakaranr\\desktop\\ctse_assignment02\\ctse-assignment02\\venv\\lib\\site-packages (from httpx>=0.27.0->chromadb) (3.10)\n",
      "Requirement already satisfied: h11>=0.16 in c:\\users\\iamthuwakaranr\\desktop\\ctse_assignment02\\ctse-assignment02\\venv\\lib\\site-packages (from httpcore==1.*->httpx>=0.27.0->chromadb) (0.16.0)\n",
      "Requirement already satisfied: fsspec>=2023.5.0 in c:\\users\\iamthuwakaranr\\desktop\\ctse_assignment02\\ctse-assignment02\\venv\\lib\\site-packages (from huggingface-hub>=0.30.2->langchain-huggingface) (2025.3.2)\n",
      "Requirement already satisfied: jsonschema-specifications>=2023.03.6 in c:\\users\\iamthuwakaranr\\desktop\\ctse_assignment02\\ctse-assignment02\\venv\\lib\\site-packages (from jsonschema>=4.19.0->chromadb) (2025.4.1)\n",
      "Requirement already satisfied: referencing>=0.28.4 in c:\\users\\iamthuwakaranr\\desktop\\ctse_assignment02\\ctse-assignment02\\venv\\lib\\site-packages (from jsonschema>=4.19.0->chromadb) (0.36.2)\n",
      "Requirement already satisfied: rpds-py>=0.7.1 in c:\\users\\iamthuwakaranr\\desktop\\ctse_assignment02\\ctse-assignment02\\venv\\lib\\site-packages (from jsonschema>=4.19.0->chromadb) (0.24.0)\n",
      "Requirement already satisfied: six>=1.9.0 in c:\\users\\iamthuwakaranr\\desktop\\ctse_assignment02\\ctse-assignment02\\venv\\lib\\site-packages (from kubernetes>=28.1.0->chromadb) (1.17.0)\n",
      "Requirement already satisfied: python-dateutil>=2.5.3 in c:\\users\\iamthuwakaranr\\desktop\\ctse_assignment02\\ctse-assignment02\\venv\\lib\\site-packages (from kubernetes>=28.1.0->chromadb) (2.9.0.post0)\n",
      "Requirement already satisfied: google-auth>=1.0.1 in c:\\users\\iamthuwakaranr\\desktop\\ctse_assignment02\\ctse-assignment02\\venv\\lib\\site-packages (from kubernetes>=28.1.0->chromadb) (2.40.1)\n",
      "Requirement already satisfied: websocket-client!=0.40.0,!=0.41.*,!=0.42.*,>=0.32.0 in c:\\users\\iamthuwakaranr\\desktop\\ctse_assignment02\\ctse-assignment02\\venv\\lib\\site-packages (from kubernetes>=28.1.0->chromadb) (1.8.0)\n",
      "Requirement already satisfied: requests-oauthlib in c:\\users\\iamthuwakaranr\\desktop\\ctse_assignment02\\ctse-assignment02\\venv\\lib\\site-packages (from kubernetes>=28.1.0->chromadb) (2.0.0)\n",
      "Requirement already satisfied: oauthlib>=3.2.2 in c:\\users\\iamthuwakaranr\\desktop\\ctse_assignment02\\ctse-assignment02\\venv\\lib\\site-packages (from kubernetes>=28.1.0->chromadb) (3.2.2)\n",
      "Requirement already satisfied: urllib3>=1.24.2 in c:\\users\\iamthuwakaranr\\desktop\\ctse_assignment02\\ctse-assignment02\\venv\\lib\\site-packages (from kubernetes>=28.1.0->chromadb) (2.4.0)\n",
      "Requirement already satisfied: durationpy>=0.7 in c:\\users\\iamthuwakaranr\\desktop\\ctse_assignment02\\ctse-assignment02\\venv\\lib\\site-packages (from kubernetes>=28.1.0->chromadb) (0.9)\n",
      "Requirement already satisfied: jsonpatch<2.0,>=1.33 in c:\\users\\iamthuwakaranr\\desktop\\ctse_assignment02\\ctse-assignment02\\venv\\lib\\site-packages (from langchain-core<1.0.0,>=0.3.58->langchain) (1.33)\n",
      "Requirement already satisfied: requests-toolbelt<2.0.0,>=1.0.0 in c:\\users\\iamthuwakaranr\\desktop\\ctse_assignment02\\ctse-assignment02\\venv\\lib\\site-packages (from langsmith<0.4,>=0.1.17->langchain) (1.0.0)\n",
      "Requirement already satisfied: zstandard<0.24.0,>=0.23.0 in c:\\users\\iamthuwakaranr\\desktop\\ctse_assignment02\\ctse-assignment02\\venv\\lib\\site-packages (from langsmith<0.4,>=0.1.17->langchain) (0.23.0)\n",
      "Requirement already satisfied: coloredlogs in c:\\users\\iamthuwakaranr\\desktop\\ctse_assignment02\\ctse-assignment02\\venv\\lib\\site-packages (from onnxruntime>=1.14.1->chromadb) (15.0.1)\n",
      "Requirement already satisfied: flatbuffers in c:\\users\\iamthuwakaranr\\desktop\\ctse_assignment02\\ctse-assignment02\\venv\\lib\\site-packages (from onnxruntime>=1.14.1->chromadb) (25.2.10)\n",
      "Requirement already satisfied: protobuf in c:\\users\\iamthuwakaranr\\desktop\\ctse_assignment02\\ctse-assignment02\\venv\\lib\\site-packages (from onnxruntime>=1.14.1->chromadb) (5.29.4)\n",
      "Requirement already satisfied: sympy in c:\\users\\iamthuwakaranr\\desktop\\ctse_assignment02\\ctse-assignment02\\venv\\lib\\site-packages (from onnxruntime>=1.14.1->chromadb) (1.14.0)\n",
      "Requirement already satisfied: deprecated>=1.2.6 in c:\\users\\iamthuwakaranr\\desktop\\ctse_assignment02\\ctse-assignment02\\venv\\lib\\site-packages (from opentelemetry-api>=1.2.0->chromadb) (1.2.18)\n",
      "Requirement already satisfied: importlib-metadata<8.7.0,>=6.0 in c:\\users\\iamthuwakaranr\\desktop\\ctse_assignment02\\ctse-assignment02\\venv\\lib\\site-packages (from opentelemetry-api>=1.2.0->chromadb) (8.6.1)\n",
      "Requirement already satisfied: googleapis-common-protos~=1.52 in c:\\users\\iamthuwakaranr\\desktop\\ctse_assignment02\\ctse-assignment02\\venv\\lib\\site-packages (from opentelemetry-exporter-otlp-proto-grpc>=1.2.0->chromadb) (1.70.0)\n",
      "Requirement already satisfied: opentelemetry-exporter-otlp-proto-common==1.32.1 in c:\\users\\iamthuwakaranr\\desktop\\ctse_assignment02\\ctse-assignment02\\venv\\lib\\site-packages (from opentelemetry-exporter-otlp-proto-grpc>=1.2.0->chromadb) (1.32.1)\n",
      "Requirement already satisfied: opentelemetry-proto==1.32.1 in c:\\users\\iamthuwakaranr\\desktop\\ctse_assignment02\\ctse-assignment02\\venv\\lib\\site-packages (from opentelemetry-exporter-otlp-proto-grpc>=1.2.0->chromadb) (1.32.1)\n",
      "Requirement already satisfied: opentelemetry-instrumentation-asgi==0.53b1 in c:\\users\\iamthuwakaranr\\desktop\\ctse_assignment02\\ctse-assignment02\\venv\\lib\\site-packages (from opentelemetry-instrumentation-fastapi>=0.41b0->chromadb) (0.53b1)\n",
      "Requirement already satisfied: opentelemetry-instrumentation==0.53b1 in c:\\users\\iamthuwakaranr\\desktop\\ctse_assignment02\\ctse-assignment02\\venv\\lib\\site-packages (from opentelemetry-instrumentation-fastapi>=0.41b0->chromadb) (0.53b1)\n",
      "Requirement already satisfied: opentelemetry-semantic-conventions==0.53b1 in c:\\users\\iamthuwakaranr\\desktop\\ctse_assignment02\\ctse-assignment02\\venv\\lib\\site-packages (from opentelemetry-instrumentation-fastapi>=0.41b0->chromadb) (0.53b1)\n",
      "Requirement already satisfied: opentelemetry-util-http==0.53b1 in c:\\users\\iamthuwakaranr\\desktop\\ctse_assignment02\\ctse-assignment02\\venv\\lib\\site-packages (from opentelemetry-instrumentation-fastapi>=0.41b0->chromadb) (0.53b1)\n",
      "Requirement already satisfied: asgiref~=3.0 in c:\\users\\iamthuwakaranr\\desktop\\ctse_assignment02\\ctse-assignment02\\venv\\lib\\site-packages (from opentelemetry-instrumentation-asgi==0.53b1->opentelemetry-instrumentation-fastapi>=0.41b0->chromadb) (3.8.1)\n",
      "Requirement already satisfied: distro>=1.5.0 in c:\\users\\iamthuwakaranr\\desktop\\ctse_assignment02\\ctse-assignment02\\venv\\lib\\site-packages (from posthog>=2.4.0->chromadb) (1.9.0)\n",
      "Requirement already satisfied: annotated-types>=0.6.0 in c:\\users\\iamthuwakaranr\\desktop\\ctse_assignment02\\ctse-assignment02\\venv\\lib\\site-packages (from pydantic<3.0.0,>=2.7.4->langchain) (0.7.0)\n",
      "Requirement already satisfied: pydantic-core==2.33.2 in c:\\users\\iamthuwakaranr\\desktop\\ctse_assignment02\\ctse-assignment02\\venv\\lib\\site-packages (from pydantic<3.0.0,>=2.7.4->langchain) (2.33.2)\n",
      "Requirement already satisfied: typing-inspection>=0.4.0 in c:\\users\\iamthuwakaranr\\desktop\\ctse_assignment02\\ctse-assignment02\\venv\\lib\\site-packages (from pydantic<3.0.0,>=2.7.4->langchain) (0.4.0)\n",
      "Requirement already satisfied: python-dotenv>=0.21.0 in c:\\users\\iamthuwakaranr\\desktop\\ctse_assignment02\\ctse-assignment02\\venv\\lib\\site-packages (from pydantic-settings<3.0.0,>=2.4.0->langchain-community) (1.1.0)\n",
      "Requirement already satisfied: charset-normalizer<4,>=2 in c:\\users\\iamthuwakaranr\\desktop\\ctse_assignment02\\ctse-assignment02\\venv\\lib\\site-packages (from requests<3,>=2->langchain) (3.4.2)\n",
      "Requirement already satisfied: markdown-it-py>=2.2.0 in c:\\users\\iamthuwakaranr\\desktop\\ctse_assignment02\\ctse-assignment02\\venv\\lib\\site-packages (from rich>=10.11.0->chromadb) (3.0.0)\n",
      "Requirement already satisfied: pygments<3.0.0,>=2.13.0 in c:\\users\\iamthuwakaranr\\desktop\\ctse_assignment02\\ctse-assignment02\\venv\\lib\\site-packages (from rich>=10.11.0->chromadb) (2.19.1)\n",
      "Requirement already satisfied: greenlet>=1 in c:\\users\\iamthuwakaranr\\desktop\\ctse_assignment02\\ctse-assignment02\\venv\\lib\\site-packages (from SQLAlchemy<3,>=1.4->langchain) (3.2.1)\n",
      "Requirement already satisfied: networkx in c:\\users\\iamthuwakaranr\\desktop\\ctse_assignment02\\ctse-assignment02\\venv\\lib\\site-packages (from torch>=1.11.0->sentence-transformers) (3.4.2)\n",
      "Requirement already satisfied: jinja2 in c:\\users\\iamthuwakaranr\\desktop\\ctse_assignment02\\ctse-assignment02\\venv\\lib\\site-packages (from torch>=1.11.0->sentence-transformers) (3.1.6)\n",
      "Requirement already satisfied: setuptools in c:\\users\\iamthuwakaranr\\desktop\\ctse_assignment02\\ctse-assignment02\\venv\\lib\\site-packages (from torch>=1.11.0->sentence-transformers) (80.3.1)\n",
      "Requirement already satisfied: click>=8.0.0 in c:\\users\\iamthuwakaranr\\desktop\\ctse_assignment02\\ctse-assignment02\\venv\\lib\\site-packages (from typer>=0.9.0->chromadb) (8.1.8)\n",
      "Requirement already satisfied: shellingham>=1.3.0 in c:\\users\\iamthuwakaranr\\desktop\\ctse_assignment02\\ctse-assignment02\\venv\\lib\\site-packages (from typer>=0.9.0->chromadb) (1.5.4)\n",
      "Requirement already satisfied: httptools>=0.6.3 in c:\\users\\iamthuwakaranr\\desktop\\ctse_assignment02\\ctse-assignment02\\venv\\lib\\site-packages (from uvicorn[standard]>=0.18.3->chromadb) (0.6.4)\n",
      "Requirement already satisfied: watchfiles>=0.13 in c:\\users\\iamthuwakaranr\\desktop\\ctse_assignment02\\ctse-assignment02\\venv\\lib\\site-packages (from uvicorn[standard]>=0.18.3->chromadb) (1.0.5)\n",
      "Requirement already satisfied: websockets>=10.4 in c:\\users\\iamthuwakaranr\\desktop\\ctse_assignment02\\ctse-assignment02\\venv\\lib\\site-packages (from uvicorn[standard]>=0.18.3->chromadb) (15.0.1)\n",
      "Requirement already satisfied: soupsieve>1.2 in c:\\users\\iamthuwakaranr\\desktop\\ctse_assignment02\\ctse-assignment02\\venv\\lib\\site-packages (from beautifulsoup4->unstructured) (2.7)\n",
      "Requirement already satisfied: webencodings in c:\\users\\iamthuwakaranr\\desktop\\ctse_assignment02\\ctse-assignment02\\venv\\lib\\site-packages (from html5lib->unstructured) (0.5.1)\n",
      "Requirement already satisfied: joblib in c:\\users\\iamthuwakaranr\\desktop\\ctse_assignment02\\ctse-assignment02\\venv\\lib\\site-packages (from nltk->unstructured) (1.5.0)\n",
      "Requirement already satisfied: olefile in c:\\users\\iamthuwakaranr\\desktop\\ctse_assignment02\\ctse-assignment02\\venv\\lib\\site-packages (from python-oxmsg->unstructured) (0.47)\n",
      "Requirement already satisfied: threadpoolctl>=3.1.0 in c:\\users\\iamthuwakaranr\\desktop\\ctse_assignment02\\ctse-assignment02\\venv\\lib\\site-packages (from scikit-learn->sentence-transformers) (3.6.0)\n",
      "Requirement already satisfied: aiofiles>=24.1.0 in c:\\users\\iamthuwakaranr\\desktop\\ctse_assignment02\\ctse-assignment02\\venv\\lib\\site-packages (from unstructured-client->unstructured) (24.1.0)\n",
      "Requirement already satisfied: cryptography>=3.1 in c:\\users\\iamthuwakaranr\\desktop\\ctse_assignment02\\ctse-assignment02\\venv\\lib\\site-packages (from unstructured-client->unstructured) (44.0.3)\n",
      "Requirement already satisfied: eval-type-backport>=0.2.0 in c:\\users\\iamthuwakaranr\\desktop\\ctse_assignment02\\ctse-assignment02\\venv\\lib\\site-packages (from unstructured-client->unstructured) (0.2.2)\n",
      "Requirement already satisfied: nest-asyncio>=1.6.0 in c:\\users\\iamthuwakaranr\\desktop\\ctse_assignment02\\ctse-assignment02\\venv\\lib\\site-packages (from unstructured-client->unstructured) (1.6.0)\n",
      "Requirement already satisfied: pypdf>=4.0 in c:\\users\\iamthuwakaranr\\desktop\\ctse_assignment02\\ctse-assignment02\\venv\\lib\\site-packages (from unstructured-client->unstructured) (5.4.0)\n",
      "Requirement already satisfied: cffi>=1.12 in c:\\users\\iamthuwakaranr\\desktop\\ctse_assignment02\\ctse-assignment02\\venv\\lib\\site-packages (from cryptography>=3.1->unstructured-client->unstructured) (1.17.1)\n",
      "Requirement already satisfied: cachetools<6.0,>=2.0.0 in c:\\users\\iamthuwakaranr\\desktop\\ctse_assignment02\\ctse-assignment02\\venv\\lib\\site-packages (from google-auth>=1.0.1->kubernetes>=28.1.0->chromadb) (5.5.2)\n",
      "Requirement already satisfied: pyasn1-modules>=0.2.1 in c:\\users\\iamthuwakaranr\\desktop\\ctse_assignment02\\ctse-assignment02\\venv\\lib\\site-packages (from google-auth>=1.0.1->kubernetes>=28.1.0->chromadb) (0.4.2)\n",
      "Requirement already satisfied: rsa<5,>=3.1.4 in c:\\users\\iamthuwakaranr\\desktop\\ctse_assignment02\\ctse-assignment02\\venv\\lib\\site-packages (from google-auth>=1.0.1->kubernetes>=28.1.0->chromadb) (4.9.1)\n",
      "Requirement already satisfied: zipp>=3.20 in c:\\users\\iamthuwakaranr\\desktop\\ctse_assignment02\\ctse-assignment02\\venv\\lib\\site-packages (from importlib-metadata<8.7.0,>=6.0->opentelemetry-api>=1.2.0->chromadb) (3.21.0)\n",
      "Requirement already satisfied: jsonpointer>=1.9 in c:\\users\\iamthuwakaranr\\desktop\\ctse_assignment02\\ctse-assignment02\\venv\\lib\\site-packages (from jsonpatch<2.0,>=1.33->langchain-core<1.0.0,>=0.3.58->langchain) (3.0.0)\n",
      "Requirement already satisfied: mdurl~=0.1 in c:\\users\\iamthuwakaranr\\desktop\\ctse_assignment02\\ctse-assignment02\\venv\\lib\\site-packages (from markdown-it-py>=2.2.0->rich>=10.11.0->chromadb) (0.1.2)\n",
      "Requirement already satisfied: sniffio>=1.1 in c:\\users\\iamthuwakaranr\\desktop\\ctse_assignment02\\ctse-assignment02\\venv\\lib\\site-packages (from anyio->httpx>=0.27.0->chromadb) (1.3.1)\n",
      "Requirement already satisfied: mpmath<1.4,>=1.1.0 in c:\\users\\iamthuwakaranr\\desktop\\ctse_assignment02\\ctse-assignment02\\venv\\lib\\site-packages (from sympy->onnxruntime>=1.14.1->chromadb) (1.3.0)\n",
      "Requirement already satisfied: mypy-extensions>=0.3.0 in c:\\users\\iamthuwakaranr\\desktop\\ctse_assignment02\\ctse-assignment02\\venv\\lib\\site-packages (from typing-inspect<1,>=0.4.0->dataclasses-json<0.7,>=0.5.7->langchain-community) (1.1.0)\n",
      "Requirement already satisfied: humanfriendly>=9.1 in c:\\users\\iamthuwakaranr\\desktop\\ctse_assignment02\\ctse-assignment02\\venv\\lib\\site-packages (from coloredlogs->onnxruntime>=1.14.1->chromadb) (10.0)\n",
      "Requirement already satisfied: MarkupSafe>=2.0 in c:\\users\\iamthuwakaranr\\desktop\\ctse_assignment02\\ctse-assignment02\\venv\\lib\\site-packages (from jinja2->torch>=1.11.0->sentence-transformers) (3.0.2)\n",
      "Requirement already satisfied: pycparser in c:\\users\\iamthuwakaranr\\desktop\\ctse_assignment02\\ctse-assignment02\\venv\\lib\\site-packages (from cffi>=1.12->cryptography>=3.1->unstructured-client->unstructured) (2.22)\n",
      "Requirement already satisfied: pyreadline3 in c:\\users\\iamthuwakaranr\\desktop\\ctse_assignment02\\ctse-assignment02\\venv\\lib\\site-packages (from humanfriendly>=9.1->coloredlogs->onnxruntime>=1.14.1->chromadb) (3.5.4)\n",
      "Requirement already satisfied: pyasn1<0.7.0,>=0.6.1 in c:\\users\\iamthuwakaranr\\desktop\\ctse_assignment02\\ctse-assignment02\\venv\\lib\\site-packages (from pyasn1-modules>=0.2.1->google-auth>=1.0.1->kubernetes>=28.1.0->chromadb) (0.6.1)\n"
     ]
    },
    {
     "name": "stderr",
     "output_type": "stream",
     "text": [
      "\n",
      "[notice] A new release of pip is available: 24.2 -> 25.1.1\n",
      "[notice] To update, run: python.exe -m pip install --upgrade pip\n"
     ]
    }
   ],
   "source": [
    "!pip install langchain langchain-community langchain-huggingface chromadb transformers unstructured sentence-transformers"
   ]
  },
  {
   "cell_type": "code",
   "execution_count": 2,
   "id": "500650f8",
   "metadata": {},
   "outputs": [],
   "source": [
    "from langchain_community.document_loaders import PyPDFLoader\n",
    "from langchain.text_splitter import RecursiveCharacterTextSplitter\n",
    "from langchain_huggingface import HuggingFaceEmbeddings, HuggingFacePipeline\n",
    "from langchain_community.vectorstores import Chroma\n",
    "from langchain.chains import RetrievalQA\n",
    "from transformers import pipeline"
   ]
  },
  {
   "cell_type": "markdown",
   "id": "201bfe6c",
   "metadata": {},
   "source": [
    "# Step 1: Load the Lecture Notes PDF\n",
    "We'll use LangChain's `PyPDFLoader` to extract text from the CTSE lecture notes."
   ]
  },
  {
   "cell_type": "code",
   "execution_count": 3,
   "id": "9ca902fb",
   "metadata": {},
   "outputs": [
    {
     "name": "stdout",
     "output_type": "stream",
     "text": [
      "Loaded 966 pages\n"
     ]
    }
   ],
   "source": [
    "loader = PyPDFLoader(\"data/ctse_notes.pdf\")\n",
    "documents = loader.load()\n",
    "print(f\"Loaded {len(documents)} pages\")"
   ]
  },
  {
   "cell_type": "markdown",
   "id": "57cd76fe",
   "metadata": {},
   "source": [
    "# Step 2: Split Documents into Chunks\n",
    "We use `RecursiveCharacterTextSplitter` to chunk the content into overlapping sections."
   ]
  },
  {
   "cell_type": "code",
   "execution_count": 4,
   "id": "1746709b",
   "metadata": {},
   "outputs": [
    {
     "name": "stdout",
     "output_type": "stream",
     "text": [
      "Total chunks created: 2018\n"
     ]
    }
   ],
   "source": [
    "text_splitter = RecursiveCharacterTextSplitter(chunk_size=500, chunk_overlap=50)\n",
    "docs = text_splitter.split_documents(documents)\n",
    "print(f\"Total chunks created: {len(docs)}\")"
   ]
  },
  {
   "cell_type": "markdown",
   "id": "3c3812fb",
   "metadata": {},
   "source": [
    "# Step 3: Generate Embeddings\n",
    "We'll use HuggingFace Sentence Transformers for vector representation."
   ]
  },
  {
   "cell_type": "code",
   "execution_count": 5,
   "id": "ea927201",
   "metadata": {},
   "outputs": [],
   "source": [
    "embedding_model = HuggingFaceEmbeddings(model_name=\"sentence-transformers/all-MiniLM-L6-v2\")"
   ]
  },
  {
   "cell_type": "markdown",
   "id": "9e3cae08",
   "metadata": {},
   "source": [
    "# Step 4: Store Chunks in Chroma Vector DB\n",
    "We'll persist the chunks and embeddings to local vector storage."
   ]
  },
  {
   "cell_type": "code",
   "execution_count": 6,
   "id": "1b0f91d6",
   "metadata": {},
   "outputs": [],
   "source": [
    "persist_directory = \"./ctse_db\"\n",
    "vectordb = Chroma.from_documents(documents=docs, embedding=embedding_model, persist_directory=persist_directory)"
   ]
  },
  {
   "cell_type": "markdown",
   "id": "eacb4824",
   "metadata": {},
   "source": [
    "# Step 5: Load a Local LLM (FLAN-T5)\n",
    "We'll use HuggingFace's pipeline for open-source inference."
   ]
  },
  {
   "cell_type": "code",
   "execution_count": 7,
   "id": "33f96a17",
   "metadata": {},
   "outputs": [
    {
     "name": "stderr",
     "output_type": "stream",
     "text": [
      "Device set to use cpu\n"
     ]
    }
   ],
   "source": [
    "hf_pipeline = pipeline(\n",
    "    \"text2text-generation\",\n",
    "    model=\"google/flan-t5-base\",\n",
    "    tokenizer=\"google/flan-t5-base\",\n",
    "    max_length=512,\n",
    "    do_sample=False\n",
    ")\n",
    "llm = HuggingFacePipeline(pipeline=hf_pipeline)"
   ]
  },
  {
   "cell_type": "markdown",
   "id": "af863e87",
   "metadata": {},
   "source": [
    "# Step 6: Setup the QA Chain\n",
    "Combining retriever and LLM using LangChain's RetrievalQA."
   ]
  },
  {
   "cell_type": "code",
   "execution_count": 8,
   "id": "6f97e082",
   "metadata": {},
   "outputs": [],
   "source": [
    "retriever = vectordb.as_retriever(search_type=\"similarity\", search_kwargs={\"k\": 3})\n",
    "qa_chain = RetrievalQA.from_chain_type(llm=llm, retriever=retriever)"
   ]
  },
  {
   "cell_type": "markdown",
   "id": "c11f6a97",
   "metadata": {},
   "source": [
    "# Step 7: Ask Questions (Notebook-Friendly)\n",
    "You can ask any question based on the CTSE lecture notes.  \n",
    "Type `'exit'` to end the interaction."
   ]
  },
  {
   "cell_type": "code",
   "execution_count": null,
   "id": "217d42ec",
   "metadata": {},
   "outputs": [
    {
     "name": "stdin",
     "output_type": "stream",
     "text": [
      "\n",
      "Ask a question (or type 'exit' to quit):  What are the primary benefits of using AWS Cloud?\n"
     ]
    },
    {
     "name": "stdout",
     "output_type": "stream",
     "text": [
      "Answer: Scalability - Easily add/ remove resources as required • Reliability - Backed by reliable AWS network with proven track record of uptime and performance • Cost-effectiveness - Pay only for what you use • Security - Wide range of security features and services to protect your data • Innovation - 200+ fully featured services for a wide range of technologies, industries, and use cases\n"
     ]
    }
   ],
   "source": [
    "# Interactive question loop (Jupyter Notebook friendly)\n",
    "def interactive_ctse_bot():\n",
    "    while True:\n",
    "        query = input(\"\\nAsk a question (or type 'exit' to quit): \")\n",
    "        if query.lower().strip() == \"exit\":\n",
    "            print(\"Exiting the chatbot session.\")\n",
    "            break\n",
    "        answer = qa_chain.invoke({\"query\": query})\n",
    "        print(\"Answer:\", answer[\"result\"])\n",
    "\n",
    "# Call this function to start Q&A\n",
    "interactive_ctse_bot()"
   ]
  },
  {
   "cell_type": "code",
   "execution_count": null,
   "id": "23dd064c-1da2-4cc0-862b-b1a5437bdd6b",
   "metadata": {},
   "outputs": [],
   "source": []
  }
 ],
 "metadata": {
  "kernelspec": {
   "display_name": "Python 3 (ipykernel)",
   "language": "python",
   "name": "python3"
  },
  "language_info": {
   "codemirror_mode": {
    "name": "ipython",
    "version": 3
   },
   "file_extension": ".py",
   "mimetype": "text/x-python",
   "name": "python",
   "nbconvert_exporter": "python",
   "pygments_lexer": "ipython3",
   "version": "3.12.6"
  }
 },
 "nbformat": 4,
 "nbformat_minor": 5
}
